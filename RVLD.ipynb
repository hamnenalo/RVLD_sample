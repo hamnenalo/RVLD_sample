{
  "nbformat": 4,
  "nbformat_minor": 0,
  "metadata": {
    "colab": {
      "provenance": []
    },
    "kernelspec": {
      "name": "python3",
      "display_name": "Python 3"
    },
    "language_info": {
      "name": "python"
    }
  },
  "cells": [
    {
      "cell_type": "code",
      "execution_count": null,
      "metadata": {
        "colab": {
          "base_uri": "https://localhost:8080/"
        },
        "id": "nneojKhINcek",
        "outputId": "6ce86041-790f-44dd-f25e-128887f57d6a"
      },
      "outputs": [
        {
          "output_type": "stream",
          "name": "stdout",
          "text": [
            "Cloning into 'RVLD'...\n",
            "remote: Enumerating objects: 642, done.\u001b[K\n",
            "remote: Counting objects: 100% (298/298), done.\u001b[K\n",
            "remote: Compressing objects: 100% (234/234), done.\u001b[K\n",
            "remote: Total 642 (delta 128), reused 117 (delta 39), pack-reused 344 (from 1)\u001b[K\n",
            "Receiving objects: 100% (642/642), 683.74 KiB | 2.16 MiB/s, done.\n",
            "Resolving deltas: 100% (284/284), done.\n"
          ]
        }
      ],
      "source": [
        "!git clone https://github.com/dongkwonjin/RVLD.git"
      ]
    },
    {
      "cell_type": "code",
      "source": [
        "%cd RVLD"
      ],
      "metadata": {
        "id": "uTDg2ShnOVyx"
      },
      "execution_count": null,
      "outputs": []
    },
    {
      "cell_type": "code",
      "source": [
        "!wget https://drive.google.com/file/d/1PjbN2uQ-7DgFJjApH1vRx81vEo_Tvn-9/view?usp=sharing\n",
        "!wget https://drive.google.com/file/d/14JI2BIwJ677_rCBLGQiHvl6IF-n0LIwH/view"
      ],
      "metadata": {
        "colab": {
          "base_uri": "https://localhost:8080/"
        },
        "id": "eKRN3I07Neqo",
        "outputId": "34ace6d6-b3c5-4bfc-9015-a1a40bd35723"
      },
      "execution_count": null,
      "outputs": [
        {
          "output_type": "stream",
          "name": "stdout",
          "text": [
            "--2024-10-15 08:06:32--  https://drive.google.com/file/d/1PjbN2uQ-7DgFJjApH1vRx81vEo_Tvn-9/view?usp=sharing\n",
            "Resolving drive.google.com (drive.google.com)... 142.251.2.138, 142.251.2.139, 142.251.2.100, ...\n",
            "Connecting to drive.google.com (drive.google.com)|142.251.2.138|:443... connected.\n",
            "HTTP request sent, awaiting response... 200 OK\n",
            "Length: unspecified [text/html]\n",
            "Saving to: ‘view?usp=sharing’\n",
            "\n",
            "view?usp=sharing        [ <=>                ]  89.70K  --.-KB/s    in 0.005s  \n",
            "\n",
            "2024-10-15 08:06:33 (18.4 MB/s) - ‘view?usp=sharing’ saved [91855]\n",
            "\n"
          ]
        }
      ]
    },
    {
      "cell_type": "code",
      "source": [
        "!unzip pretrained.zip\n",
        "# !unzip preprocessing.zip\n",
        "!unzip preprocessed.zip"
      ],
      "metadata": {
        "colab": {
          "base_uri": "https://localhost:8080/"
        },
        "id": "C6u3St5COcs0",
        "outputId": "ccd33fa4-6b75-4bb5-cfb8-cdd0cefc96c3"
      },
      "execution_count": null,
      "outputs": [
        {
          "output_type": "stream",
          "name": "stdout",
          "text": [
            "Archive:  pretrained.zip\n",
            "   creating: pretrained/\n",
            "   creating: pretrained/VIL-100/\n",
            "  inflating: pretrained/VIL-100/checkpoint_max_seg_fscore_vil100_ILD_seg  \n",
            "  inflating: pretrained/VIL-100/checkpoint_max_F1_vil100_ILD_coeff  \n",
            "  inflating: pretrained/VIL-100/checkpoint_max_F1_vil100_PLD  \n",
            "   creating: pretrained/OpenLane-V/\n",
            "  inflating: pretrained/OpenLane-V/checkpoint_max_F1_openlane-v_PLD  \n",
            "  inflating: pretrained/OpenLane-V/checkpoint_max_seg_fscore_openlane-v_ILD_seg  \n",
            "  inflating: pretrained/OpenLane-V/checkpoint_max_F1_openlane-v_ILD_coeff  \n"
          ]
        }
      ]
    },
    {
      "cell_type": "code",
      "source": [
        "!pip install -r requirements.txt"
      ],
      "metadata": {
        "colab": {
          "base_uri": "https://localhost:8080/"
        },
        "id": "Mx3RNrVmN9U7",
        "outputId": "2b36ff88-d209-4c74-e31f-5b1a80287611"
      },
      "execution_count": null,
      "outputs": [
        {
          "output_type": "stream",
          "name": "stdout",
          "text": [
            "Requirement already satisfied: opencv-python in /usr/local/lib/python3.10/dist-packages (from -r requirements.txt (line 1)) (4.10.0.84)\n",
            "Requirement already satisfied: imgaug in /usr/local/lib/python3.10/dist-packages (from -r requirements.txt (line 2)) (0.4.0)\n",
            "Requirement already satisfied: pickle5 in /usr/local/lib/python3.10/dist-packages (from -r requirements.txt (line 3)) (0.0.11)\n",
            "Requirement already satisfied: tqdm==4.43.0 in /usr/local/lib/python3.10/dist-packages (from -r requirements.txt (line 4)) (4.43.0)\n",
            "Requirement already satisfied: p_tqdm==1.3.3 in /usr/local/lib/python3.10/dist-packages (from -r requirements.txt (line 5)) (1.3.3)\n",
            "Requirement already satisfied: Shapely in /usr/local/lib/python3.10/dist-packages (from -r requirements.txt (line 6)) (2.0.6)\n",
            "Requirement already satisfied: pathos in /usr/local/lib/python3.10/dist-packages (from p_tqdm==1.3.3->-r requirements.txt (line 5)) (0.3.3)\n",
            "Requirement already satisfied: six in /usr/local/lib/python3.10/dist-packages (from p_tqdm==1.3.3->-r requirements.txt (line 5)) (1.16.0)\n",
            "Requirement already satisfied: numpy>=1.21.2 in /usr/local/lib/python3.10/dist-packages (from opencv-python->-r requirements.txt (line 1)) (1.26.4)\n",
            "Requirement already satisfied: scipy in /usr/local/lib/python3.10/dist-packages (from imgaug->-r requirements.txt (line 2)) (1.13.1)\n",
            "Requirement already satisfied: Pillow in /usr/local/lib/python3.10/dist-packages (from imgaug->-r requirements.txt (line 2)) (10.4.0)\n",
            "Requirement already satisfied: matplotlib in /usr/local/lib/python3.10/dist-packages (from imgaug->-r requirements.txt (line 2)) (3.7.1)\n",
            "Requirement already satisfied: scikit-image>=0.14.2 in /usr/local/lib/python3.10/dist-packages (from imgaug->-r requirements.txt (line 2)) (0.24.0)\n",
            "Requirement already satisfied: imageio in /usr/local/lib/python3.10/dist-packages (from imgaug->-r requirements.txt (line 2)) (2.35.1)\n",
            "Requirement already satisfied: networkx>=2.8 in /usr/local/lib/python3.10/dist-packages (from scikit-image>=0.14.2->imgaug->-r requirements.txt (line 2)) (3.4)\n",
            "Requirement already satisfied: tifffile>=2022.8.12 in /usr/local/lib/python3.10/dist-packages (from scikit-image>=0.14.2->imgaug->-r requirements.txt (line 2)) (2024.9.20)\n",
            "Requirement already satisfied: packaging>=21 in /usr/local/lib/python3.10/dist-packages (from scikit-image>=0.14.2->imgaug->-r requirements.txt (line 2)) (24.1)\n",
            "Requirement already satisfied: lazy-loader>=0.4 in /usr/local/lib/python3.10/dist-packages (from scikit-image>=0.14.2->imgaug->-r requirements.txt (line 2)) (0.4)\n",
            "Requirement already satisfied: contourpy>=1.0.1 in /usr/local/lib/python3.10/dist-packages (from matplotlib->imgaug->-r requirements.txt (line 2)) (1.3.0)\n",
            "Requirement already satisfied: cycler>=0.10 in /usr/local/lib/python3.10/dist-packages (from matplotlib->imgaug->-r requirements.txt (line 2)) (0.12.1)\n",
            "Requirement already satisfied: fonttools>=4.22.0 in /usr/local/lib/python3.10/dist-packages (from matplotlib->imgaug->-r requirements.txt (line 2)) (4.54.1)\n",
            "Requirement already satisfied: kiwisolver>=1.0.1 in /usr/local/lib/python3.10/dist-packages (from matplotlib->imgaug->-r requirements.txt (line 2)) (1.4.7)\n",
            "Requirement already satisfied: pyparsing>=2.3.1 in /usr/local/lib/python3.10/dist-packages (from matplotlib->imgaug->-r requirements.txt (line 2)) (3.1.4)\n",
            "Requirement already satisfied: python-dateutil>=2.7 in /usr/local/lib/python3.10/dist-packages (from matplotlib->imgaug->-r requirements.txt (line 2)) (2.8.2)\n",
            "Requirement already satisfied: ppft>=1.7.6.9 in /usr/local/lib/python3.10/dist-packages (from pathos->p_tqdm==1.3.3->-r requirements.txt (line 5)) (1.7.6.9)\n",
            "Requirement already satisfied: dill>=0.3.9 in /usr/local/lib/python3.10/dist-packages (from pathos->p_tqdm==1.3.3->-r requirements.txt (line 5)) (0.3.9)\n",
            "Requirement already satisfied: pox>=0.3.5 in /usr/local/lib/python3.10/dist-packages (from pathos->p_tqdm==1.3.3->-r requirements.txt (line 5)) (0.3.5)\n",
            "Requirement already satisfied: multiprocess>=0.70.17 in /usr/local/lib/python3.10/dist-packages (from pathos->p_tqdm==1.3.3->-r requirements.txt (line 5)) (0.70.17)\n"
          ]
        }
      ]
    },
    {
      "cell_type": "code",
      "source": [
        "# %cd ROOT/Preprocessing/DATASET_NAME/PXX_each_preprocessing_step/code/\n",
        "%cd Preprocessing/OpenLane-V/P01_lane_representation/code/"
      ],
      "metadata": {
        "colab": {
          "base_uri": "https://localhost:8080/"
        },
        "id": "QS_Pq-V9OACV",
        "outputId": "1f796bf7-f995-4eb0-f090-806591ba1c2b"
      },
      "execution_count": null,
      "outputs": [
        {
          "output_type": "stream",
          "name": "stdout",
          "text": [
            "/content/RVLD/Preprocessing/OpenLane-V/P01_lane_representation/code\n"
          ]
        }
      ]
    },
    {
      "cell_type": "code",
      "source": [
        "!python main.py --dataset_dir /content/RVLD/data/"
      ],
      "metadata": {
        "id": "ibrjMRGRPND3"
      },
      "execution_count": null,
      "outputs": []
    },
    {
      "cell_type": "code",
      "source": [],
      "metadata": {
        "id": "bXVeeU0BQ3y_"
      },
      "execution_count": null,
      "outputs": []
    }
  ]
}